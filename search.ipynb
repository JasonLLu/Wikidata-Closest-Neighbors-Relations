{
 "cells": [
  {
   "cell_type": "code",
   "execution_count": null,
   "metadata": {},
   "outputs": [],
   "source": [
    "import json\n",
    "import numpy as np\n",
    "import pickle\n",
    "import faiss\n",
    "#78404883 4151 200"
   ]
  },
  {
   "cell_type": "code",
   "execution_count": null,
   "metadata": {},
   "outputs": [],
   "source": [
    "with open('id_to_index.pkl', 'rb') as f:  # Python 3: open(..., 'rb')\n",
    "    id_to_index = pickle.load(f)\n",
    "print('loaded')"
   ]
  },
  {
   "cell_type": "code",
   "execution_count": null,
   "metadata": {},
   "outputs": [],
   "source": [
    "with open('index_to_entitity.pkl', 'rb') as f:  # Python 3: open(..., 'rb')\n",
    "    index_to_entitity = pickle.load(f)"
   ]
  },
  {
   "cell_type": "code",
   "execution_count": null,
   "metadata": {},
   "outputs": [],
   "source": [
    "with open('index_to_relation.pkl', 'rb') as f:  # Python 3: open(..., 'rb')\n",
    "    index_to_relation = pickle.load(f)"
   ]
  },
  {
   "cell_type": "code",
   "execution_count": null,
   "metadata": {},
   "outputs": [],
   "source": [
    "index_to_relation[5002]"
   ]
  },
  {
   "cell_type": "code",
   "execution_count": null,
   "metadata": {},
   "outputs": [],
   "source": [
    "all_embeddings = np.load(\"wikidata_translation_v1_vectors.npy\", mmap_mode = 'r') #, skiprows=1, max_rows=78404883, usecols=range(1, 201), comments=None)"
   ]
  },
  {
   "cell_type": "code",
   "execution_count": null,
   "metadata": {},
   "outputs": [],
   "source": [
    "class Constants:\n",
    "    ENTITIES = all_embeddings[0:78404883]\n",
    "    RELATIONS = all_embeddings[78404883:]\n",
    "    "
   ]
  },
  {
   "cell_type": "code",
   "execution_count": null,
   "metadata": {},
   "outputs": [],
   "source": [
    "entities_index = faiss.IndexFlatL2(200)\n",
    "entities_index.add(Constants.ENTITIES)"
   ]
  },
  {
   "cell_type": "code",
   "execution_count": null,
   "metadata": {},
   "outputs": [],
   "source": [
    "def closest_entitity(keyid, k, index, id_to_index, index_to_entitity):\n",
    "    \"\"\"\n",
    "    key_id: a string representing an entitiy; ex: '<http://www.wikidata.org/entity/Q37079688>' \n",
    "    k: an int that indicates how many closest neighbors to search for\n",
    "    id_to_index: dictionary that maps id to index\n",
    "    index_to_id: dictionary that maps index to id\n",
    "    \"\"\"\n",
    "    result = []\n",
    "\n",
    "    vector = np.array([Constants.ENTITIES[id_to_index[keyid]]])\n",
    "    \n",
    "    _, neighbors = index.search(vector, k)\n",
    "    \n",
    "    for i in range(k):\n",
    "        temp = index_to_entitity[neighbors[0,i]]\n",
    "        result.append(temp)\n",
    "    \n",
    "    return result\n",
    "    \n",
    "\n",
    "    "
   ]
  },
  {
   "cell_type": "code",
   "execution_count": null,
   "metadata": {},
   "outputs": [],
   "source": [
    "#This can be changed to whatever entity you want to perform the search on\n",
    "key_id = '<http://www.wikidata.org/entity/Q76>'"
   ]
  },
  {
   "cell_type": "code",
   "execution_count": null,
   "metadata": {},
   "outputs": [],
   "source": [
    "#These parameters may be changed based on the comments above within the function\n",
    "print(closest_entitity(key_id,5,entities_index,id_to_index,index_to_entitity))"
   ]
  },
  {
   "cell_type": "code",
   "execution_count": null,
   "metadata": {},
   "outputs": [],
   "source": [
    "relations_index = faiss.IndexFlatL2(200)\n",
    "relations_index.add(Constants.RELATIONS)"
   ]
  },
  {
   "cell_type": "code",
   "execution_count": null,
   "metadata": {},
   "outputs": [],
   "source": [
    "def closest_relation(key1, key2, k, index, id_to_index, index_to_relation):\n",
    "    \"\"\"\n",
    "    key_id: a string representing an entitiy; ex: '<http://www.wikidata.org/entity/Q37079688>' \n",
    "    k: an int that indicates how many closest neighbors to search for\n",
    "    id_to_index: dictionary that maps id to index\n",
    "    index_to_id: dictionary that maps index to id\n",
    "    \"\"\"\n",
    "    result = []\n",
    "\n",
    "    vector1 = np.array([Constants.ENTITIES[id_to_index[key1]]])\n",
    "    vector2 = np.array([Constants.ENTITIES[id_to_index[key2]]])\n",
    "    \n",
    "    \n",
    "    \n",
    "    vector = vector1 - vector2\n",
    "    \n",
    "    _, neighbors = index.search(vector, k)\n",
    "    \n",
    "    for i in range(k):\n",
    "        temp = index_to_relation[neighbors[0,i]]\n",
    "        result.append(temp)\n",
    "    \n",
    "    return result\n",
    "    "
   ]
  },
  {
   "cell_type": "code",
   "execution_count": null,
   "metadata": {},
   "outputs": [],
   "source": [
    "def dot_relation(key1, key2, k, index, id_to_index, index_to_relation):\n",
    "    \"\"\"\n",
    "    key_id: a string representing an entitiy; ex: '<http://www.wikidata.org/entity/Q37079688>' \n",
    "    k: an int that indicates how many closest neighbors to search for\n",
    "    id_to_index: dictionary that maps id to index\n",
    "    index_to_id: dictionary that maps index to id\n",
    "    \"\"\"\n",
    "    result = []\n",
    "\n",
    "    vector1 = np.array([Constants.ENTITIES[id_to_index[key1]]])\n",
    "    vector2 = np.array([Constants.ENTITIES[id_to_index[key2]]])\n",
    "    \n",
    "    scores = (vector1.reshape((1, 200)) @ (Constants.RELATIONS +vector2).transpose())/(np.linalg.norm(vector1)*np.linalg.norm(Constants.RELATIONS +vector2))\n",
    "    \n",
    "    result = []\n",
    "    \n",
    "    new = np.argsort(scores.flatten())\n",
    "    for elt in new[-k:]:\n",
    "        result.append(index_to_relation[elt])\n",
    "    return result\n",
    "    "
   ]
  },
  {
   "cell_type": "code",
   "execution_count": null,
   "metadata": {},
   "outputs": [],
   "source": [
    "key1 = '<http://www.wikidata.org/entity/Q76>'\n",
    "key2 = '<http://www.wikidata.org/entity/Q13133>'"
   ]
  },
  {
   "cell_type": "code",
   "execution_count": null,
   "metadata": {},
   "outputs": [],
   "source": [
    "print(closest_relation(key1,key2,5,relations_index,id_to_index,index_to_relation))"
   ]
  },
  {
   "cell_type": "code",
   "execution_count": null,
   "metadata": {},
   "outputs": [],
   "source": [
    "print(dot_relation(key1,key2,5,relations_index,id_to_index,index_to_relation))"
   ]
  },
  {
   "cell_type": "code",
   "execution_count": null,
   "metadata": {},
   "outputs": [],
   "source": [
    "print(dot_relation(key2,key1,5,relations_index,id_to_index,index_to_relation))"
   ]
  }
 ],
 "metadata": {
  "kernelspec": {
   "display_name": "Python (myenv)",
   "language": "python",
   "name": "faisssearch"
  },
  "language_info": {
   "codemirror_mode": {
    "name": "ipython",
    "version": 3
   },
   "file_extension": ".py",
   "mimetype": "text/x-python",
   "name": "python",
   "nbconvert_exporter": "python",
   "pygments_lexer": "ipython3",
   "version": "3.6.8"
  }
 },
 "nbformat": 4,
 "nbformat_minor": 2
}
