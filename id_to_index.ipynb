{
 "cells": [
  {
   "cell_type": "code",
   "execution_count": null,
   "metadata": {},
   "outputs": [],
   "source": [
    "import pickle\n",
    "import json"
   ]
  },
  {
   "cell_type": "code",
   "execution_count": null,
   "metadata": {},
   "outputs": [],
   "source": [
    "with open('wikidata_translation_v1_names.json') as fd:\n",
    "    file = json.load(fd)\n",
    "    \n",
    "print(len(file[78404883:]))"
   ]
  },
  {
   "cell_type": "code",
   "execution_count": null,
   "metadata": {},
   "outputs": [],
   "source": [
    "#maps the indices to entities\n",
    "index_to_entitity = {}\n",
    "for i in range(78404883):\n",
    "    index_to_entitity[i] = file[i]\n",
    "print('loaded')\n",
    "\n",
    "with open('index_to_entitity.pkl', 'wb') as f:  # Python 3: open(..., 'wb')\n",
    "    pickle.dump(index_to_entitity, f)\n",
    "\n",
    "print('done')"
   ]
  },
  {
   "cell_type": "code",
   "execution_count": null,
   "metadata": {},
   "outputs": [],
   "source": [
    "#maps the 8302 indices to forward and reverse relations\n",
    "index_to_relation = {}\n",
    "for i in range(len(file[78404883:])):\n",
    "    index_to_relation[i] = file[i+78404883]\n",
    "print('loaded')\n",
    "    \n",
    "with open('index_to_relation.pkl', 'wb') as f:  # Python 3: open(..., 'wb')\n",
    "    pickle.dump(index_to_relation, f)\n",
    "\n",
    "print('done')"
   ]
  },
  {
   "cell_type": "code",
   "execution_count": null,
   "metadata": {},
   "outputs": [],
   "source": [
    "id_to_index = {}\n",
    "for i in range(len(file)):\n",
    "    id_to_index[file[i]] = i\n",
    "print('loaded')\n",
    "\n",
    "with open('id_to_index.pkl', 'wb') as f:  # Python 3: open(..., 'wb')\n",
    "    pickle.dump(id_to_index, f)\n",
    "    \n",
    "print('done')"
   ]
  },
  {
   "cell_type": "code",
   "execution_count": null,
   "metadata": {},
   "outputs": [],
   "source": [
    "print(id_to_index.keys()[1000:2000])"
   ]
  },
  {
   "cell_type": "code",
   "execution_count": null,
   "metadata": {},
   "outputs": [],
   "source": []
  }
 ],
 "metadata": {
  "kernelspec": {
   "display_name": "Python 3",
   "language": "python",
   "name": "python3"
  },
  "language_info": {
   "codemirror_mode": {
    "name": "ipython",
    "version": 3
   },
   "file_extension": ".py",
   "mimetype": "text/x-python",
   "name": "python",
   "nbconvert_exporter": "python",
   "pygments_lexer": "ipython3",
   "version": "3.6.7"
  }
 },
 "nbformat": 4,
 "nbformat_minor": 2
}
